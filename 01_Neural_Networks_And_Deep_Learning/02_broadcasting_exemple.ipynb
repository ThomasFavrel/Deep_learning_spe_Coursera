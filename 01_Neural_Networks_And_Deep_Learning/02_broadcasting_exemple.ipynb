{
 "cells": [
  {
   "cell_type": "code",
   "execution_count": 7,
   "id": "a62d4be8",
   "metadata": {},
   "outputs": [],
   "source": [
    "import numpy as np\n",
    "import torch\n",
    "import tensorflow as tf"
   ]
  },
  {
   "cell_type": "code",
   "execution_count": 13,
   "id": "11606445",
   "metadata": {},
   "outputs": [
    {
     "data": {
      "text/plain": [
       "<tensorflow.python.eager.context._EagerDeviceContext at 0x7fdbc7943800>"
      ]
     },
     "execution_count": 13,
     "metadata": {},
     "output_type": "execute_result"
    }
   ],
   "source": [
    "tf.device('cpu')"
   ]
  },
  {
   "cell_type": "code",
   "execution_count": 5,
   "id": "00457c7b",
   "metadata": {},
   "outputs": [
    {
     "data": {
      "text/plain": [
       "array([[ 56. ,   0. ,   4.4,  68. ],\n",
       "       [  1.2, 104. ,  52. ,   8. ],\n",
       "       [  1.8, 135. ,  99. ,   0.9]])"
      ]
     },
     "execution_count": 5,
     "metadata": {},
     "output_type": "execute_result"
    }
   ],
   "source": [
    "A = np.array([[56, 0, 4.4, 68],\n",
    "              [1.2, 104, 52, 8],\n",
    "              [1.8, 135, 99, .9]])\n",
    "A"
   ]
  },
  {
   "cell_type": "code",
   "execution_count": 17,
   "id": "407ba152",
   "metadata": {},
   "outputs": [],
   "source": [
    "tf_A = tf.convert_to_tensor(A)\n",
    "torch_A = torch.tensor(A)"
   ]
  },
  {
   "cell_type": "markdown",
   "id": "9bbcb2ae",
   "metadata": {},
   "source": [
    "## 1. With Numpy"
   ]
  },
  {
   "cell_type": "code",
   "execution_count": 6,
   "id": "9bc0bb90",
   "metadata": {},
   "outputs": [
    {
     "data": {
      "text/plain": [
       "array([ 59. , 239. , 155.4,  76.9])"
      ]
     },
     "execution_count": 6,
     "metadata": {},
     "output_type": "execute_result"
    }
   ],
   "source": [
    "cal = A.sum(axis=0)\n",
    "cal"
   ]
  },
  {
   "cell_type": "code",
   "execution_count": 21,
   "id": "3f6121a1",
   "metadata": {},
   "outputs": [
    {
     "data": {
      "text/plain": [
       "array([[94.91525424,  0.        ,  2.83140283, 88.42652796],\n",
       "       [ 2.03389831, 43.51464435, 33.46203346, 10.40312094],\n",
       "       [ 3.05084746, 56.48535565, 63.70656371,  1.17035111]])"
      ]
     },
     "execution_count": 21,
     "metadata": {},
     "output_type": "execute_result"
    }
   ],
   "source": [
    "percentage = 100 * A / cal # broadcasting -> (3, 4) / (1, 4) => (3, 4) / (3, 4)\n",
    "percentage"
   ]
  },
  {
   "cell_type": "markdown",
   "id": "91e684a0",
   "metadata": {},
   "source": [
    "## 2. With Pytorch"
   ]
  },
  {
   "cell_type": "code",
   "execution_count": 28,
   "id": "35614455",
   "metadata": {},
   "outputs": [
    {
     "data": {
      "text/plain": [
       "tensor([ 59.0000, 239.0000, 155.4000,  76.9000], dtype=torch.float64)"
      ]
     },
     "execution_count": 28,
     "metadata": {},
     "output_type": "execute_result"
    }
   ],
   "source": [
    "cal = torch.sum(torch_A, axis=0)\n",
    "cal"
   ]
  },
  {
   "cell_type": "code",
   "execution_count": 29,
   "id": "2f72bb37",
   "metadata": {},
   "outputs": [
    {
     "data": {
      "text/plain": [
       "tensor([[94.9153,  0.0000,  2.8314, 88.4265],\n",
       "        [ 2.0339, 43.5146, 33.4620, 10.4031],\n",
       "        [ 3.0508, 56.4854, 63.7066,  1.1704]], dtype=torch.float64)"
      ]
     },
     "execution_count": 29,
     "metadata": {},
     "output_type": "execute_result"
    }
   ],
   "source": [
    "percentage = 100 * torch_A / cal\n",
    "percentage"
   ]
  },
  {
   "cell_type": "markdown",
   "id": "8b599d00",
   "metadata": {},
   "source": [
    "## 3. With Tensorflow"
   ]
  },
  {
   "cell_type": "code",
   "execution_count": 30,
   "id": "cfde24cd",
   "metadata": {},
   "outputs": [
    {
     "data": {
      "text/plain": [
       "<tf.Tensor: shape=(4,), dtype=float64, numpy=array([ 59. , 239. , 155.4,  76.9])>"
      ]
     },
     "execution_count": 30,
     "metadata": {},
     "output_type": "execute_result"
    }
   ],
   "source": [
    "cal = tf.math.reduce_sum(tf_A, axis=0)\n",
    "cal"
   ]
  },
  {
   "cell_type": "code",
   "execution_count": 31,
   "id": "4290f1bb",
   "metadata": {},
   "outputs": [
    {
     "data": {
      "text/plain": [
       "<tf.Tensor: shape=(3, 4), dtype=float64, numpy=\n",
       "array([[94.91525424,  0.        ,  2.83140283, 88.42652796],\n",
       "       [ 2.03389831, 43.51464435, 33.46203346, 10.40312094],\n",
       "       [ 3.05084746, 56.48535565, 63.70656371,  1.17035111]])>"
      ]
     },
     "execution_count": 31,
     "metadata": {},
     "output_type": "execute_result"
    }
   ],
   "source": [
    "percentage = 100 * tf_A / cal\n",
    "percentage"
   ]
  },
  {
   "cell_type": "markdown",
   "id": "c5f9a387",
   "metadata": {},
   "source": [
    "![](img/broadcasting.jpg)"
   ]
  },
  {
   "cell_type": "code",
   "execution_count": null,
   "id": "04777c94",
   "metadata": {},
   "outputs": [],
   "source": []
  }
 ],
 "metadata": {
  "kernelspec": {
   "display_name": "Python 3 (ipykernel)",
   "language": "python",
   "name": "python3"
  },
  "language_info": {
   "codemirror_mode": {
    "name": "ipython",
    "version": 3
   },
   "file_extension": ".py",
   "mimetype": "text/x-python",
   "name": "python",
   "nbconvert_exporter": "python",
   "pygments_lexer": "ipython3",
   "version": "3.8.10"
  }
 },
 "nbformat": 4,
 "nbformat_minor": 5
}
