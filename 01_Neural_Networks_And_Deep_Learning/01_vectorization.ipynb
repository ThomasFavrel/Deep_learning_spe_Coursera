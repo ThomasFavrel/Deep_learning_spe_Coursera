{
 "cells": [
  {
   "cell_type": "code",
   "execution_count": 84,
   "id": "9d3a3b78",
   "metadata": {},
   "outputs": [],
   "source": [
    "import numpy as np\n",
    "import torch\n",
    "import tensorflow as tf\n",
    "import time\n",
    "import pandas as pd\n",
    "import matplotlib.pyplot as plt\n",
    "\n",
    "pd.options.display.float_format = '{:,.3f}'.format"
   ]
  },
  {
   "cell_type": "code",
   "execution_count": 2,
   "id": "ec415315",
   "metadata": {},
   "outputs": [],
   "source": [
    "w = np.random.rand(1_000_000)\n",
    "x = np.random.rand(1_000_000)"
   ]
  },
  {
   "cell_type": "markdown",
   "id": "48387c1d",
   "metadata": {},
   "source": [
    "## 1. With python for loop"
   ]
  },
  {
   "cell_type": "code",
   "execution_count": 3,
   "id": "d947df34",
   "metadata": {},
   "outputs": [
    {
     "name": "stdout",
     "output_type": "stream",
     "text": [
      "For loop: 193.084979057312 ms.\n",
      "CPU times: user 19.3 s, sys: 7.04 ms, total: 19.3 s\n",
      "Wall time: 19.3 s\n"
     ]
    }
   ],
   "source": [
    "%%time\n",
    "tic = time.time()\n",
    "\n",
    "for j in range(100):\n",
    "    z=0\n",
    "    for i in range(1_000_000):\n",
    "        z += w[i] * x[i]\n",
    "\n",
    "toc = time.time()\n",
    "\n",
    "time_for_loop = (toc - tic) * 10\n",
    "print(f\"For loop: {time_for_loop} ms.\")"
   ]
  },
  {
   "cell_type": "markdown",
   "id": "15fbd9f8",
   "metadata": {},
   "source": [
    "## 2. With numpy vectorization"
   ]
  },
  {
   "cell_type": "code",
   "execution_count": 15,
   "id": "b1b6d262",
   "metadata": {},
   "outputs": [
    {
     "name": "stdout",
     "output_type": "stream",
     "text": [
      "Numpy vec: 0.11962652206420898 ms.\n",
      "CPU times: user 215 ms, sys: 0 ns, total: 215 ms\n",
      "Wall time: 12.1 ms\n"
     ]
    }
   ],
   "source": [
    "%%time\n",
    "tic = time.time()\n",
    "\n",
    "for j in range(100):\n",
    "    z=0\n",
    "    z = np.dot(w, x)\n",
    "\n",
    "toc = time.time()\n",
    "\n",
    "time_for_numpy = (toc - tic) * 10\n",
    "print(f\"Numpy vec: {time_for_numpy} ms.\")"
   ]
  },
  {
   "cell_type": "markdown",
   "id": "b3788e7a",
   "metadata": {},
   "source": [
    "## 3. With Tensorflow Tensor"
   ]
  },
  {
   "cell_type": "code",
   "execution_count": 9,
   "id": "348cb2cf",
   "metadata": {
    "scrolled": true
   },
   "outputs": [],
   "source": [
    "w_tf = tf.convert_to_tensor(w)\n",
    "x_tf = tf.convert_to_tensor(x)"
   ]
  },
  {
   "cell_type": "code",
   "execution_count": 10,
   "id": "7c7e4fa4",
   "metadata": {},
   "outputs": [
    {
     "name": "stdout",
     "output_type": "stream",
     "text": [
      "tf vec: 0.44008970260620117 ms.\n",
      "CPU times: user 41.6 ms, sys: 3.68 ms, total: 45.3 ms\n",
      "Wall time: 44.1 ms\n"
     ]
    }
   ],
   "source": [
    "%%time\n",
    "tic = time.time()\n",
    "\n",
    "for j in range(100):\n",
    "    z=0\n",
    "    z = tf.tensordot(w_tf, x_tf, axes=1)\n",
    "\n",
    "toc = time.time()\n",
    "\n",
    "time_for_tf = (toc - tic) * 10\n",
    "print(f\"tf vec: {time_for_tf} ms.\")"
   ]
  },
  {
   "cell_type": "markdown",
   "id": "3d60573b",
   "metadata": {},
   "source": [
    "#### With opti"
   ]
  },
  {
   "cell_type": "code",
   "execution_count": 11,
   "id": "d42121bd",
   "metadata": {},
   "outputs": [],
   "source": [
    "@tf.function\n",
    "def dot(x, y):\n",
    "    return tf.tensordot(x, y, axes=1)"
   ]
  },
  {
   "cell_type": "code",
   "execution_count": 24,
   "id": "2ccf2a64",
   "metadata": {
    "scrolled": true
   },
   "outputs": [
    {
     "name": "stdout",
     "output_type": "stream",
     "text": [
      "tf vec opti: 0.17971515655517578 ms.\n",
      "CPU times: user 20.8 ms, sys: 184 µs, total: 21 ms\n",
      "Wall time: 18.1 ms\n"
     ]
    }
   ],
   "source": [
    "%%time\n",
    "tic = time.time()\n",
    "\n",
    "for j in range(100):\n",
    "    z=0\n",
    "    z = dot(w_tf, x_tf)\n",
    "\n",
    "toc = time.time()\n",
    "\n",
    "time_for_tf_opti = (toc - tic) * 10\n",
    "print(f\"tf vec opti: {time_for_tf_opti} ms.\")"
   ]
  },
  {
   "cell_type": "markdown",
   "id": "1158a922",
   "metadata": {},
   "source": [
    "## 4. With Pytorch"
   ]
  },
  {
   "cell_type": "code",
   "execution_count": 25,
   "id": "f6529e08",
   "metadata": {},
   "outputs": [],
   "source": [
    "w_torch = torch.tensor(w)\n",
    "x_torch = torch.tensor(x)"
   ]
  },
  {
   "cell_type": "code",
   "execution_count": 30,
   "id": "a1be13c0",
   "metadata": {},
   "outputs": [
    {
     "name": "stdout",
     "output_type": "stream",
     "text": [
      "torch vec: 0.11466026306152344 ms.\n",
      "CPU times: user 91.8 ms, sys: 1.12 ms, total: 92.9 ms\n",
      "Wall time: 11.8 ms\n"
     ]
    }
   ],
   "source": [
    "%%time\n",
    "tic = time.time()\n",
    "\n",
    "for j in range(100):\n",
    "    z=0\n",
    "    z = torch.dot(w_torch, x_torch)\n",
    "\n",
    "toc = time.time()\n",
    "\n",
    "time_for_torch = (toc - tic) * 10\n",
    "print(f\"torch vec: {time_for_torch} ms.\")"
   ]
  },
  {
   "cell_type": "markdown",
   "id": "22d1fd2d",
   "metadata": {},
   "source": [
    "# Results"
   ]
  },
  {
   "cell_type": "code",
   "execution_count": 50,
   "id": "01e8587a",
   "metadata": {},
   "outputs": [],
   "source": [
    "times = {\n",
    "    'For Loop': time_for_loop,\n",
    "    'Numpy vectorization': time_for_numpy,\n",
    "    'TF vectorization': time_for_tf,\n",
    "    'TF opti vectorization': time_for_tf_opti,\n",
    "    'Torch vectorization': time_for_torch\n",
    "}"
   ]
  },
  {
   "cell_type": "code",
   "execution_count": 85,
   "id": "eba94654",
   "metadata": {},
   "outputs": [
    {
     "data": {
      "text/html": [
       "<div>\n",
       "<style scoped>\n",
       "    .dataframe tbody tr th:only-of-type {\n",
       "        vertical-align: middle;\n",
       "    }\n",
       "\n",
       "    .dataframe tbody tr th {\n",
       "        vertical-align: top;\n",
       "    }\n",
       "\n",
       "    .dataframe thead th {\n",
       "        text-align: right;\n",
       "    }\n",
       "</style>\n",
       "<table border=\"1\" class=\"dataframe\">\n",
       "  <thead>\n",
       "    <tr style=\"text-align: right;\">\n",
       "      <th></th>\n",
       "      <th>Torch vectorization</th>\n",
       "      <th>Numpy vectorization</th>\n",
       "      <th>TF opti vectorization</th>\n",
       "      <th>TF vectorization</th>\n",
       "      <th>For Loop</th>\n",
       "    </tr>\n",
       "  </thead>\n",
       "  <tbody>\n",
       "    <tr>\n",
       "      <th>Time (ms)</th>\n",
       "      <td>0.115</td>\n",
       "      <td>0.120</td>\n",
       "      <td>0.180</td>\n",
       "      <td>0.440</td>\n",
       "      <td>193.085</td>\n",
       "    </tr>\n",
       "  </tbody>\n",
       "</table>\n",
       "</div>"
      ],
      "text/plain": [
       "           Torch vectorization  Numpy vectorization  TF opti vectorization  \\\n",
       "Time (ms)                0.115                0.120                  0.180   \n",
       "\n",
       "           TF vectorization  For Loop  \n",
       "Time (ms)             0.440   193.085  "
      ]
     },
     "execution_count": 85,
     "metadata": {},
     "output_type": "execute_result"
    }
   ],
   "source": [
    "df_time = pd.DataFrame.from_dict(times, orient='index', columns=['Time (ms)'])\n",
    "df_time.sort_values(by='Time (ms)', inplace=True)\n",
    "df_time.T"
   ]
  },
  {
   "cell_type": "code",
   "execution_count": 89,
   "id": "7785a1e6",
   "metadata": {},
   "outputs": [
    {
     "data": {
      "text/plain": [
       "'Vectorization can be 1683 times faster for this case'"
      ]
     },
     "execution_count": 89,
     "metadata": {},
     "output_type": "execute_result"
    }
   ],
   "source": [
    "f\"Vectorization can be {int(time_for_loop / time_for_torch)} times faster for this case\""
   ]
  },
  {
   "cell_type": "code",
   "execution_count": 79,
   "id": "331cec96",
   "metadata": {},
   "outputs": [
    {
     "data": {
      "image/png": "[encoded data removed]",
      "text/plain": [
       "<Figure size 864x576 with 1 Axes>"
      ]
     },
     "metadata": {
      "needs_background": "light"
     },
     "output_type": "display_data"
    }
   ],
   "source": [
    "fig = plt.figure(figsize=(12, 8))\n",
    "plt.bar(df_time.index.values, df_time['Time (ms)'].values)\n",
    "plt.title('Benchmark dot vector', size=20)\n",
    "plt.show();"
   ]
  },
  {
   "cell_type": "code",
   "execution_count": 81,
   "id": "1f72f136",
   "metadata": {},
   "outputs": [
    {
     "data": {
      "image/png": "[encoded data removed]",
      "text/plain": [
       "<Figure size 864x576 with 1 Axes>"
      ]
     },
     "metadata": {
      "needs_background": "light"
     },
     "output_type": "display_data"
    }
   ],
   "source": [
    "fig = plt.figure(figsize=(12, 8))\n",
    "plt.bar(df_time.index.values[:-1], df_time['Time (ms)'].values[:-1])\n",
    "plt.title('Benchmark dot vector without for loop', size=20)\n",
    "plt.show();"
   ]
  },
  {
   "cell_type": "markdown",
   "id": "ea4ea259",
   "metadata": {},
   "source": [
    "<img src=\"img/tensor_vec.jpg\" alt=\"drawing\"/>"
   ]
  }
 ],
 "metadata": {
  "kernelspec": {
   "display_name": "Python 3 (ipykernel)",
   "language": "python",
   "name": "python3"
  },
  "language_info": {
   "codemirror_mode": {
    "name": "ipython",
    "version": 3
   },
   "file_extension": ".py",
   "mimetype": "text/x-python",
   "name": "python",
   "nbconvert_exporter": "python",
   "pygments_lexer": "ipython3",
   "version": "3.8.10"
  }
 },
 "nbformat": 4,
 "nbformat_minor": 5
}
