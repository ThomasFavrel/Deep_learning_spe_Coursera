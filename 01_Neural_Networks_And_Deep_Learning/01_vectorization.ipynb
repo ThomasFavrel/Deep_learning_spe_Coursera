{
 "cells": [
  {
   "cell_type": "code",
   "execution_count": 1,
   "id": "eeab825b",
   "metadata": {},
   "outputs": [],
   "source": [
    "import numpy as np\n",
    "import torch\n",
    "import tensorflow as tf\n",
    "import time"
   ]
  },
  {
   "cell_type": "code",
   "execution_count": 2,
   "id": "01008916",
   "metadata": {},
   "outputs": [],
   "source": [
    "w = np.random.rand(1_000_000)\n",
    "x = np.random.rand(1_000_000)"
   ]
  },
  {
   "cell_type": "markdown",
   "id": "79f35940",
   "metadata": {},
   "source": [
    "## 1. With python for loop"
   ]
  },
  {
   "cell_type": "code",
   "execution_count": 3,
   "id": "01fcc85e",
   "metadata": {},
   "outputs": [
    {
     "name": "stdout",
     "output_type": "stream",
     "text": [
      "For loop: 193.084979057312 ms.\n",
      "CPU times: user 19.3 s, sys: 7.04 ms, total: 19.3 s\n",
      "Wall time: 19.3 s\n"
     ]
    }
   ],
   "source": [
    "%%time\n",
    "tic = time.time()\n",
    "\n",
    "for j in range(100):\n",
    "    z=0\n",
    "    for i in range(1_000_000):\n",
    "        z += w[i] * x[i]\n",
    "\n",
    "toc = time.time()\n",
    "\n",
    "time_for_loop = (toc - tic) * 10\n",
    "print(f\"For loop: {time_for_loop} ms.\")"
   ]
  },
  {
   "cell_type": "markdown",
   "id": "b3e62b26",
   "metadata": {},
   "source": [
    "## 2. With numpy vectorization"
   ]
  },
  {
   "cell_type": "code",
   "execution_count": 15,
   "id": "1b3cc3bd",
   "metadata": {},
   "outputs": [
    {
     "name": "stdout",
     "output_type": "stream",
     "text": [
      "Numpy vec: 0.11962652206420898 ms.\n",
      "CPU times: user 215 ms, sys: 0 ns, total: 215 ms\n",
      "Wall time: 12.1 ms\n"
     ]
    }
   ],
   "source": [
    "%%time\n",
    "tic = time.time()\n",
    "\n",
    "for j in range(100):\n",
    "    z=0\n",
    "    z = np.dot(w, x)\n",
    "\n",
    "toc = time.time()\n",
    "\n",
    "time_for_numpy = (toc - tic) * 10\n",
    "print(f\"Numpy vec: {time_for_numpy} ms.\")"
   ]
  },
  {
   "cell_type": "markdown",
   "id": "5bd91b05",
   "metadata": {},
   "source": [
    "## 3. With Tensorflow Tensor"
   ]
  },
  {
   "cell_type": "code",
   "execution_count": 9,
   "id": "99ab17b4",
   "metadata": {
    "scrolled": true
   },
   "outputs": [],
   "source": [
    "w_tf = tf.convert_to_tensor(w)\n",
    "x_tf = tf.convert_to_tensor(x)"
   ]
  },
  {
   "cell_type": "code",
   "execution_count": 10,
   "id": "10b0f0c8",
   "metadata": {},
   "outputs": [
    {
     "name": "stdout",
     "output_type": "stream",
     "text": [
      "tf vec: 0.44008970260620117 ms.\n",
      "CPU times: user 41.6 ms, sys: 3.68 ms, total: 45.3 ms\n",
      "Wall time: 44.1 ms\n"
     ]
    }
   ],
   "source": [
    "%%time\n",
    "tic = time.time()\n",
    "\n",
    "for j in range(100):\n",
    "    z=0\n",
    "    z = tf.tensordot(w_tf, x_tf, axes=1)\n",
    "\n",
    "toc = time.time()\n",
    "\n",
    "time_for_tf = (toc - tic) * 10\n",
    "print(f\"tf vec: {time_for_tf} ms.\")"
   ]
  },
  {
   "cell_type": "markdown",
   "id": "68ff778d",
   "metadata": {},
   "source": [
    "#### With opti"
   ]
  },
  {
   "cell_type": "code",
   "execution_count": 11,
   "id": "40d6afd2",
   "metadata": {},
   "outputs": [],
   "source": [
    "@tf.function\n",
    "def dot(x, y):\n",
    "    return tf.tensordot(x, y, axes=1)"
   ]
  },
  {
   "cell_type": "code",
   "execution_count": 24,
   "id": "9bf7e2c4",
   "metadata": {
    "scrolled": true
   },
   "outputs": [
    {
     "name": "stdout",
     "output_type": "stream",
     "text": [
      "tf vec opti: 0.17971515655517578 ms.\n",
      "CPU times: user 20.8 ms, sys: 184 µs, total: 21 ms\n",
      "Wall time: 18.1 ms\n"
     ]
    }
   ],
   "source": [
    "%%time\n",
    "tic = time.time()\n",
    "\n",
    "for j in range(100):\n",
    "    z=0\n",
    "    z = dot(w_tf, x_tf)\n",
    "\n",
    "toc = time.time()\n",
    "\n",
    "time_for_tf_opti = (toc - tic) * 10\n",
    "print(f\"tf vec opti: {time_for_tf_opti} ms.\")"
   ]
  },
  {
   "cell_type": "markdown",
   "id": "ae95dfb7",
   "metadata": {},
   "source": [
    "## 4. With Pytorch"
   ]
  },
  {
   "cell_type": "code",
   "execution_count": 25,
   "id": "b13ad928",
   "metadata": {},
   "outputs": [],
   "source": [
    "w_torch = torch.tensor(w)\n",
    "x_torch = torch.tensor(x)"
   ]
  },
  {
   "cell_type": "code",
   "execution_count": 30,
   "id": "72a924c6",
   "metadata": {},
   "outputs": [
    {
     "name": "stdout",
     "output_type": "stream",
     "text": [
      "torch vec: 0.11466026306152344 ms.\n",
      "CPU times: user 91.8 ms, sys: 1.12 ms, total: 92.9 ms\n",
      "Wall time: 11.8 ms\n"
     ]
    }
   ],
   "source": [
    "%%time\n",
    "tic = time.time()\n",
    "\n",
    "for j in range(100):\n",
    "    z=0\n",
    "    z = torch.dot(w_torch, x_torch)\n",
    "\n",
    "toc = time.time()\n",
    "\n",
    "time_for_torch = (toc - tic) * 10\n",
    "print(f\"torch vec: {time_for_torch} ms.\")"
   ]
  },
  {
   "cell_type": "code",
   "execution_count": 31,
   "id": "c0634f2f",
   "metadata": {},
   "outputs": [],
   "source": [
    "times = [\n",
    "    time_for_loop,\n",
    "    time_for_numpy,\n",
    "    time_for_tf,\n",
    "    time_for_tf_opti,\n",
    "    time_for_torch\n",
    "]"
   ]
  },
  {
   "cell_type": "code",
   "execution_count": null,
   "id": "a9e25061",
   "metadata": {},
   "outputs": [],
   "source": []
  },
  {
   "cell_type": "markdown",
   "id": "e29994a5",
   "metadata": {},
   "source": [
    "<img src=\"img/tensor_vec.jpg\" alt=\"drawing\"/>"
   ]
  }
 ],
 "metadata": {
  "kernelspec": {
   "display_name": "Python 3 (ipykernel)",
   "language": "python",
   "name": "python3"
  },
  "language_info": {
   "codemirror_mode": {
    "name": "ipython",
    "version": 3
   },
   "file_extension": ".py",
   "mimetype": "text/x-python",
   "name": "python",
   "nbconvert_exporter": "python",
   "pygments_lexer": "ipython3",
   "version": "3.8.10"
  }
 },
 "nbformat": 4,
 "nbformat_minor": 5
}
