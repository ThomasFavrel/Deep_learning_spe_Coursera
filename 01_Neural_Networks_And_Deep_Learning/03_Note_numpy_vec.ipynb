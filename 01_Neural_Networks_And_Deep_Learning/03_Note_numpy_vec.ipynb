{
 "cells": [
  {
   "cell_type": "code",
   "execution_count": 3,
   "id": "377ae1ae",
   "metadata": {},
   "outputs": [],
   "source": [
    "import numpy as np\n",
    "import tensorflow as tf\n",
    "import torch"
   ]
  },
  {
   "cell_type": "code",
   "execution_count": 4,
   "id": "43e08415",
   "metadata": {},
   "outputs": [
    {
     "data": {
      "text/plain": [
       "array([ 1.86842831, -2.15585322,  1.09802387, -0.51125732,  0.74555755])"
      ]
     },
     "execution_count": 4,
     "metadata": {},
     "output_type": "execute_result"
    }
   ],
   "source": [
    "a = np.random.randn(5)\n",
    "a"
   ]
  },
  {
   "cell_type": "code",
   "execution_count": 5,
   "id": "c70189e8",
   "metadata": {},
   "outputs": [
    {
     "data": {
      "text/plain": [
       "(5,)"
      ]
     },
     "execution_count": 5,
     "metadata": {},
     "output_type": "execute_result"
    }
   ],
   "source": [
    "a.shape"
   ]
  },
  {
   "cell_type": "code",
   "execution_count": 6,
   "id": "d3aeff5e",
   "metadata": {},
   "outputs": [
    {
     "data": {
      "text/plain": [
       "array([ 1.86842831, -2.15585322,  1.09802387, -0.51125732,  0.74555755])"
      ]
     },
     "execution_count": 6,
     "metadata": {},
     "output_type": "execute_result"
    }
   ],
   "source": [
    "a.T"
   ]
  },
  {
   "cell_type": "code",
   "execution_count": 7,
   "id": "3c896b20",
   "metadata": {},
   "outputs": [
    {
     "data": {
      "text/plain": [
       "(5,)"
      ]
     },
     "execution_count": 7,
     "metadata": {},
     "output_type": "execute_result"
    }
   ],
   "source": [
    "a.T.shape"
   ]
  },
  {
   "cell_type": "markdown",
   "id": "3a59261c",
   "metadata": {},
   "source": [
    "`a is neither a row vector or a cloumn vector, it is a one ranked array`"
   ]
  },
  {
   "cell_type": "code",
   "execution_count": 8,
   "id": "4be88cd9",
   "metadata": {},
   "outputs": [
    {
     "data": {
      "text/plain": [
       "10.161623981847924"
      ]
     },
     "execution_count": 8,
     "metadata": {},
     "output_type": "execute_result"
    }
   ],
   "source": [
    "np.dot(a, a.T)"
   ]
  },
  {
   "cell_type": "markdown",
   "id": "a152f73a",
   "metadata": {},
   "source": [
    "## Good practice"
   ]
  },
  {
   "cell_type": "code",
   "execution_count": 9,
   "id": "7c042734",
   "metadata": {},
   "outputs": [
    {
     "data": {
      "text/plain": [
       "array([[0.17966741],\n",
       "       [2.19330527],\n",
       "       [0.84296843],\n",
       "       [0.94126048],\n",
       "       [2.5912626 ]])"
      ]
     },
     "execution_count": 9,
     "metadata": {},
     "output_type": "execute_result"
    }
   ],
   "source": [
    "a = np.random.randn(5, 1)\n",
    "a"
   ]
  },
  {
   "cell_type": "code",
   "execution_count": 10,
   "id": "d63c9d59",
   "metadata": {},
   "outputs": [
    {
     "data": {
      "text/plain": [
       "array([[0.17966741, 2.19330527, 0.84296843, 0.94126048, 2.5912626 ]])"
      ]
     },
     "execution_count": 10,
     "metadata": {},
     "output_type": "execute_result"
    }
   ],
   "source": [
    "a.T"
   ]
  },
  {
   "cell_type": "code",
   "execution_count": 11,
   "id": "7175aa72",
   "metadata": {},
   "outputs": [
    {
     "data": {
      "text/plain": [
       "array([[0.03228038, 0.39406547, 0.15145395, 0.16911383, 0.46556543],\n",
       "       [0.39406547, 4.81058801, 1.8488871 , 2.06447157, 5.68342991],\n",
       "       [0.15145395, 1.8488871 , 0.71059577, 0.79345287, 2.18435256],\n",
       "       [0.16911383, 2.06447157, 0.79345287, 0.88597129, 2.43905307],\n",
       "       [0.46556543, 5.68342991, 2.18435256, 2.43905307, 6.71464184]])"
      ]
     },
     "execution_count": 11,
     "metadata": {},
     "output_type": "execute_result"
    }
   ],
   "source": [
    "np.dot(a, a.T)"
   ]
  },
  {
   "cell_type": "markdown",
   "id": "c95aaa5b",
   "metadata": {},
   "source": [
    "## In Pytorch"
   ]
  },
  {
   "cell_type": "code",
   "execution_count": 13,
   "id": "a8cc09d4",
   "metadata": {},
   "outputs": [
    {
     "data": {
      "text/plain": [
       "tensor([[-0.9169],\n",
       "        [ 1.1065],\n",
       "        [ 1.4160],\n",
       "        [ 0.1194],\n",
       "        [ 0.4314]])"
      ]
     },
     "execution_count": 13,
     "metadata": {},
     "output_type": "execute_result"
    }
   ],
   "source": [
    "a = torch.randn(5, 1)\n",
    "a"
   ]
  },
  {
   "cell_type": "code",
   "execution_count": 16,
   "id": "230008a8",
   "metadata": {},
   "outputs": [
    {
     "data": {
      "text/plain": [
       "tensor([[ 0.8407, -1.0145, -1.2983, -0.1095, -0.3955],\n",
       "        [-1.0145,  1.2244,  1.5668,  0.1321,  0.4773],\n",
       "        [-1.2983,  1.5668,  2.0050,  0.1691,  0.6108],\n",
       "        [-0.1095,  0.1321,  0.1691,  0.0143,  0.0515],\n",
       "        [-0.3955,  0.4773,  0.6108,  0.0515,  0.1861]])"
      ]
     },
     "execution_count": 16,
     "metadata": {},
     "output_type": "execute_result"
    }
   ],
   "source": [
    "torch.mm(a, a.T)"
   ]
  },
  {
   "cell_type": "markdown",
   "id": "1ec57435",
   "metadata": {},
   "source": [
    "## In TF"
   ]
  },
  {
   "cell_type": "code",
   "execution_count": 20,
   "id": "28ab2ae8",
   "metadata": {},
   "outputs": [
    {
     "data": {
      "text/plain": [
       "<tf.Tensor: shape=(5, 1), dtype=float32, numpy=\n",
       "array([[0.31313443],\n",
       "       [0.27038956],\n",
       "       [0.6768497 ],\n",
       "       [0.18750107],\n",
       "       [0.8662138 ]], dtype=float32)>"
      ]
     },
     "execution_count": 20,
     "metadata": {},
     "output_type": "execute_result"
    }
   ],
   "source": [
    "a = tf.random.uniform((5, 1))\n",
    "a"
   ]
  },
  {
   "cell_type": "code",
   "execution_count": 24,
   "id": "186d2c5f",
   "metadata": {},
   "outputs": [
    {
     "data": {
      "text/plain": [
       "<tf.Tensor: shape=(5, 5), dtype=float32, numpy=\n",
       "array([[0.09811455, 0.08473182, 0.21198249, 0.05873108, 0.27132535],\n",
       "       [0.08473182, 0.07317448, 0.18306828, 0.05072021, 0.23431683],\n",
       "       [0.21198249, 0.18306828, 0.45800114, 0.12689209, 0.586215  ],\n",
       "       [0.05873108, 0.05072021, 0.12689209, 0.03515625, 0.16241455],\n",
       "       [0.27132535, 0.23431683, 0.586215  , 0.16241455, 0.7503214 ]],\n",
       "      dtype=float32)>"
      ]
     },
     "execution_count": 24,
     "metadata": {},
     "output_type": "execute_result"
    }
   ],
   "source": [
    "tf.matmul(a, a, transpose_b=True)"
   ]
  },
  {
   "cell_type": "code",
   "execution_count": null,
   "id": "20882727",
   "metadata": {},
   "outputs": [],
   "source": []
  }
 ],
 "metadata": {
  "kernelspec": {
   "display_name": "Python 3 (ipykernel)",
   "language": "python",
   "name": "python3"
  },
  "language_info": {
   "codemirror_mode": {
    "name": "ipython",
    "version": 3
   },
   "file_extension": ".py",
   "mimetype": "text/x-python",
   "name": "python",
   "nbconvert_exporter": "python",
   "pygments_lexer": "ipython3",
   "version": "3.8.10"
  }
 },
 "nbformat": 4,
 "nbformat_minor": 5
}
