{
 "cells": [
  {
   "cell_type": "code",
   "execution_count": 15,
   "id": "4b4bae48",
   "metadata": {},
   "outputs": [],
   "source": [
    "import numpy as np\n",
    "import matplotlib.pyplot as plt\n",
    "import h5py\n",
    "from lr_utils import load_dataset\n",
    "import torch\n",
    "import tensorflow as tf"
   ]
  },
  {
   "cell_type": "markdown",
   "id": "b07a4797",
   "metadata": {},
   "source": [
    "## 1. Import Data"
   ]
  },
  {
   "cell_type": "code",
   "execution_count": 7,
   "id": "e66f7cca",
   "metadata": {},
   "outputs": [],
   "source": [
    "train_set_x_orig, train_set_y,\\\n",
    "test_set_x_orig, test_set_y, classes = load_dataset()"
   ]
  },
  {
   "cell_type": "code",
   "execution_count": 10,
   "id": "bf6f1c04",
   "metadata": {},
   "outputs": [],
   "source": [
    "m_train = train_set_x_orig.shape[0]\n",
    "m_test = test_set_x_orig.shape[0]\n",
    "num_px = train_set_x_orig.shape[1]"
   ]
  },
  {
   "cell_type": "code",
   "execution_count": 11,
   "id": "bcd5c5dd",
   "metadata": {},
   "outputs": [
    {
     "name": "stdout",
     "output_type": "stream",
     "text": [
      "Number of training examples: m_train = 209\n",
      "Number of testing examples: m_test = 50\n",
      "Height/Width of each image: num_px = 64\n",
      "Each image is of size: (64, 64, 3)\n",
      "train_set_x shape: (209, 64, 64, 3)\n",
      "train_set_y shape: (1, 209)\n",
      "test_set_x shape: (50, 64, 64, 3)\n",
      "test_set_y shape: (1, 50)\n"
     ]
    }
   ],
   "source": [
    "print (\"Number of training examples: m_train = \" + str(m_train))\n",
    "print (\"Number of testing examples: m_test = \" + str(m_test))\n",
    "print (\"Height/Width of each image: num_px = \" + str(num_px))\n",
    "print (\"Each image is of size: (\" + str(num_px) + \", \" + str(num_px) + \", 3)\")\n",
    "print (\"train_set_x shape: \" + str(train_set_x_orig.shape))\n",
    "print (\"train_set_y shape: \" + str(train_set_y.shape))\n",
    "print (\"test_set_x shape: \" + str(test_set_x_orig.shape))\n",
    "print (\"test_set_y shape: \" + str(test_set_y.shape))"
   ]
  },
  {
   "cell_type": "markdown",
   "id": "1c01d136",
   "metadata": {},
   "source": [
    "## 2. Reshape training and test examples"
   ]
  },
  {
   "cell_type": "code",
   "execution_count": 12,
   "id": "ef0bd250",
   "metadata": {},
   "outputs": [
    {
     "name": "stdout",
     "output_type": "stream",
     "text": [
      "train_set_x_flatten shape: (12288, 209)\n",
      "train_set_y shape: (1, 209)\n",
      "test_set_x_flatten shape: (12288, 50)\n",
      "test_set_y shape: (1, 50)\n"
     ]
    }
   ],
   "source": [
    "train_set_x_flatten = train_set_x_orig.reshape(m_train, -1).T\n",
    "test_set_x_flatten = test_set_x_orig.reshape(m_test, -1).T\n",
    "\n",
    "print (\"train_set_x_flatten shape: \" + str(train_set_x_flatten.shape))\n",
    "print (\"train_set_y shape: \" + str(train_set_y.shape))\n",
    "print (\"test_set_x_flatten shape: \" + str(test_set_x_flatten.shape))\n",
    "print (\"test_set_y shape: \" + str(test_set_y.shape))"
   ]
  },
  {
   "cell_type": "markdown",
   "id": "ee45da56",
   "metadata": {},
   "source": [
    "### Standardize features"
   ]
  },
  {
   "cell_type": "code",
   "execution_count": 13,
   "id": "ceb2ecb2",
   "metadata": {},
   "outputs": [],
   "source": [
    "train_set_x = train_set_x_flatten / 255.\n",
    "test_set_x = test_set_x_flatten / 255."
   ]
  },
  {
   "cell_type": "markdown",
   "id": "cd75e680",
   "metadata": {},
   "source": [
    "# Build Model"
   ]
  },
  {
   "cell_type": "markdown",
   "id": "a00b1160",
   "metadata": {},
   "source": [
    "<a name='3'></a>\n",
    "## 3 - General Architecture of the learning algorithm ##\n",
    "\n",
    "It's time to design a simple algorithm to distinguish cat images from non-cat images.\n",
    "\n",
    "You will build a Logistic Regression, using a Neural Network mindset. The following Figure explains why **Logistic Regression is actually a very simple Neural Network!**\n",
    "\n",
    "<img src=\"images/LogReg_kiank.png\" style=\"width:650px;height:400px;\">\n",
    "\n",
    "**Mathematical expression of the algorithm**:\n",
    "\n",
    "For one example $x^{(i)}$:\n",
    "$$z^{(i)} = w^T x^{(i)} + b \\tag{1}$$\n",
    "$$\\hat{y}^{(i)} = a^{(i)} = sigmoid(z^{(i)})\\tag{2}$$ \n",
    "$$ \\mathcal{L}(a^{(i)}, y^{(i)}) =  - y^{(i)}  \\log(a^{(i)}) - (1-y^{(i)} )  \\log(1-a^{(i)})\\tag{3}$$\n",
    "\n",
    "The cost is then computed by summing over all training examples:\n",
    "$$ J = \\frac{1}{m} \\sum_{i=1}^m \\mathcal{L}(a^{(i)}, y^{(i)})\\tag{6}$$\n",
    "\n",
    "**Key steps**:\n",
    "In this exercise, you will carry out the following steps: \n",
    "    - Initialize the parameters of the model\n",
    "    - Learn the parameters for the model by minimizing the cost  \n",
    "    - Use the learned parameters to make predictions (on the test set)\n",
    "    - Analyse the results and conclude"
   ]
  },
  {
   "cell_type": "markdown",
   "id": "789ba14f",
   "metadata": {},
   "source": [
    "## 1. Sigmoid"
   ]
  },
  {
   "cell_type": "code",
   "execution_count": 16,
   "id": "9d399d2b",
   "metadata": {},
   "outputs": [],
   "source": [
    "def sigmoid_np(x):  \n",
    "    return 1 / (1 + np.exp(-x))\n",
    "\n",
    "def sigmoid_torch(x):\n",
    "    return 1 / (1 + torch.exp(-x))\n",
    "\n",
    "@tf.function\n",
    "def sigmoid_tf(x):\n",
    "    return 1 / (1 + tf.math.exp(-x))"
   ]
  },
  {
   "cell_type": "markdown",
   "id": "d31614b1",
   "metadata": {},
   "source": [
    "## 2. Initialing parameters"
   ]
  },
  {
   "cell_type": "code",
   "execution_count": 18,
   "id": "b5847579",
   "metadata": {},
   "outputs": [],
   "source": [
    "def initialize_with_zeros_np(dim):\n",
    "    \"\"\"\n",
    "    This function creates a vector of zeros of shape (dim, 1) for w and initializes b to 0.\n",
    "    \n",
    "    Argument:\n",
    "    dim -- size of the w vector we want (or number of parameters in this case)\n",
    "    \n",
    "    Returns:\n",
    "    w -- initialized vector of shape (dim, 1)\n",
    "    b -- initialized scalar (corresponds to the bias) of type float\n",
    "    \"\"\"\n",
    "    \n",
    "    w = np.zeros((dim, 1))\n",
    "    b = 0.\n",
    "    \n",
    "    return w, b\n",
    "\n",
    "def initialize_with_zeros_torch(dim):\n",
    "    w = torch.zeros((dim, 1))\n",
    "    b = torch.zeros(1)\n",
    "    # b = 0.\n",
    "    return w, b\n",
    "\n",
    "def initialize_with_zeros_tf(dim):\n",
    "    w = tf.zeros((dim, 1))\n",
    "    b = tf.zeros(1)\n",
    "    # b = 0.\n",
    "    return w, b"
   ]
  },
  {
   "cell_type": "markdown",
   "id": "9226b3f8",
   "metadata": {},
   "source": [
    "## 3. Forward and backward propagation"
   ]
  },
  {
   "cell_type": "markdown",
   "id": "d44537ef",
   "metadata": {},
   "source": [
    "Forward Propagation:\n",
    "- You get X\n",
    "- You compute $A = \\sigma(w^T X + b) = (a^{(1)}, a^{(2)}, ..., a^{(m-1)}, a^{(m)})$\n",
    "- You calculate the cost function: $J = -\\frac{1}{m}\\sum_{i=1}^{m}(y^{(i)}\\log(a^{(i)})+(1-y^{(i)})\\log(1-a^{(i)}))$\n",
    "\n",
    "Here are the two formulas you will be using: \n",
    "\n",
    "$$ \\frac{\\partial J}{\\partial w} = \\frac{1}{m}X(A-Y)^T\\tag{7}$$\n",
    "$$ \\frac{\\partial J}{\\partial b} = \\frac{1}{m} \\sum_{i=1}^m (a^{(i)}-y^{(i)})\\tag{8}$$"
   ]
  },
  {
   "cell_type": "code",
   "execution_count": 65,
   "id": "62b422d6",
   "metadata": {},
   "outputs": [],
   "source": [
    "def propagate_np(w, b, X, Y):\n",
    "    \"\"\"\n",
    "    Implement the cost function and its gradient for the propagation explained above\n",
    "\n",
    "    Arguments:\n",
    "    w -- weights, a numpy array of size (num_px * num_px * 3, 1)\n",
    "    b -- bias, a scalar\n",
    "    X -- data of size (num_px * num_px * 3, number of examples)\n",
    "    Y -- true \"label\" vector (containing 0 if non-cat, 1 if cat) of size (1, number of examples)\n",
    "\n",
    "    Return:\n",
    "    cost -- negative log-likelihood cost for logistic regression\n",
    "    dw -- gradient of the loss with respect to w, thus same shape as w\n",
    "    db -- gradient of the loss with respect to b, thus same shape as b\n",
    "    \n",
    "    Tips:\n",
    "    - Write your code step by step for the propagation. np.log(), np.dot()\n",
    "    \"\"\"\n",
    "    \n",
    "    m = X.shape[1]\n",
    "    \n",
    "    # FORWARD PROPAGATION (FROM X TO COST)\n",
    "    \n",
    "    A = sigmoid_np(np.dot(w.T, X) + b)\n",
    "    cost = (-1 / m) * np.sum(Y * np.log(A) + (1 - Y) * np.log(1 - A))\n",
    "    \n",
    "    # BACKWARD PROPAGATION (TO FIND GRAD)\n",
    "    \n",
    "    dw = (1 / m) * np.dot(X, (A - Y).T)\n",
    "    db = (1 / m) * np.sum(A - Y)\n",
    "    \n",
    "    cost = np.squeeze(cost)\n",
    "\n",
    "    \n",
    "    grads = {\"dw\": dw,\n",
    "             \"db\": db}\n",
    "    \n",
    "    return grads, cost"
   ]
  },
  {
   "cell_type": "markdown",
   "id": "1ceeaf80",
   "metadata": {},
   "source": [
    "<object data=\"images/Forward_bacward_notes.pdf\" type=\"application/pdf\" width=\"700px\" height=\"700px\">\n",
    "    <embed src=\"images/Forward_bacward_notes.pdf\">\n",
    "        <p>This browser does not support PDFs. Please download the PDF to view it: <a href=\"images/Forward_bacward_notes.pdf\">Download PDF</a>.</p>\n",
    "    </embed>\n",
    "</object>\n"
   ]
  },
  {
   "cell_type": "code",
   "execution_count": 66,
   "id": "41d1f432",
   "metadata": {},
   "outputs": [],
   "source": [
    "def propagate_torch(w, b, X, Y):\n",
    "    \n",
    "    m = X.shape[1]\n",
    "    \n",
    "    # FORWARD PROPAGATION (FROM X TO COST)\n",
    "    \n",
    "    A = sigmoid_torch(torch.mm(w.T, X) + b)\n",
    "    cost = (-1 / m) * torch.sum(Y * torch.log(A) + (1 - Y) * torch.log(1 - A))\n",
    "    \n",
    "    # BACKWARD PROPAGATION (TO FIND GRAD)\n",
    "    \n",
    "    dw = (1 / m) * torch.mm(X, (A - Y).T)\n",
    "    db = (1 / m) * torch.sum(A - Y)\n",
    "    \n",
    "    cost = torch.squeeze(cost)\n",
    "\n",
    "    \n",
    "    grads = {\"dw\": dw,\n",
    "             \"db\": db}\n",
    "    \n",
    "    return grads, cost"
   ]
  },
  {
   "cell_type": "code",
   "execution_count": 76,
   "id": "1d1740ab",
   "metadata": {},
   "outputs": [],
   "source": [
    "@tf.function\n",
    "def propagate_tf(w, b, X, Y):\n",
    "    \n",
    "    m = X.shape[1]\n",
    "    \n",
    "    # FORWARD PROPAGATION (FROM X TO COST)\n",
    "    \n",
    "    A = sigmoid_tf(\n",
    "        tf.tensordot(\n",
    "            tf.transpose(w), X, axes=1) + b)\n",
    "    \n",
    "    cost = (-1 / m) * tf.math.reduce_sum(Y * tf.math.log(A)\\\n",
    "                                         + (1 - Y) * tf.math.log(1 - A))\n",
    "    \n",
    "    # BACKWARD PROPAGATION (TO FIND GRAD)\n",
    "    \n",
    "    dw = (1 / m) * tf.tensordot(X, tf.transpose(A - Y), axes=1)\n",
    "    db = (1 / m) * tf.math.reduce_sum(A - Y)\n",
    "    \n",
    "    cost = tf.squeeze(cost)\n",
    "\n",
    "    \n",
    "    grads = {\"dw\": dw,\n",
    "             \"db\": db}\n",
    "    \n",
    "    return grads, cost"
   ]
  },
  {
   "cell_type": "markdown",
   "id": "2b3a2bba",
   "metadata": {},
   "source": [
    "### tests"
   ]
  },
  {
   "cell_type": "code",
   "execution_count": 68,
   "id": "41132c5b",
   "metadata": {},
   "outputs": [],
   "source": [
    "w =  np.array([[1.], [2]])\n",
    "b = 1.5\n",
    "X = np.array([[1., -2., -1.], [3., 0.5, -3.2]])\n",
    "Y = np.array([[1, 1, 0]])\n",
    "\n",
    "w_torch = torch.Tensor(w)\n",
    "b_torch = torch.Tensor([b])\n",
    "X_torch = torch.Tensor(X)\n",
    "Y_torch = torch.Tensor(Y)\n",
    "\n",
    "w_tf = tf.convert_to_tensor(w)\n",
    "b_tf = tf.convert_to_tensor([b])\n",
    "X_tf = tf.convert_to_tensor(X)\n",
    "Y_tf = tf.convert_to_tensor(Y, dtype='float64')"
   ]
  },
  {
   "cell_type": "code",
   "execution_count": 69,
   "id": "12c258e2",
   "metadata": {},
   "outputs": [
    {
     "data": {
      "text/plain": [
       "({'dw': array([[ 0.25071532],\n",
       "         [-0.06604096]]),\n",
       "  'db': -0.1250040450043965},\n",
       " 0.15900537707692405)"
      ]
     },
     "execution_count": 69,
     "metadata": {},
     "output_type": "execute_result"
    }
   ],
   "source": [
    "grads, cost = propagate_np(w, b, X, Y)\n",
    "grads, cost"
   ]
  },
  {
   "cell_type": "code",
   "execution_count": 70,
   "id": "5b09534a",
   "metadata": {},
   "outputs": [
    {
     "data": {
      "text/plain": [
       "({'dw': tensor([[ 0.2507],\n",
       "          [-0.0660]]),\n",
       "  'db': tensor(-0.1250)},\n",
       " tensor(0.1590))"
      ]
     },
     "execution_count": 70,
     "metadata": {},
     "output_type": "execute_result"
    }
   ],
   "source": [
    "grads, cost = propagate_torch(w_torch, b, X_torch, Y_torch)\n",
    "grads, cost"
   ]
  },
  {
   "cell_type": "code",
   "execution_count": 77,
   "id": "6ac3df05",
   "metadata": {},
   "outputs": [
    {
     "data": {
      "text/plain": [
       "({'dw': <tf.Tensor: shape=(2, 1), dtype=float64, numpy=\n",
       "  array([[ 0.25071532],\n",
       "         [-0.06604096]])>,\n",
       "  'db': <tf.Tensor: shape=(), dtype=float64, numpy=-0.1250040450043965>},\n",
       " <tf.Tensor: shape=(), dtype=float64, numpy=0.15900537707692405>)"
      ]
     },
     "execution_count": 77,
     "metadata": {},
     "output_type": "execute_result"
    }
   ],
   "source": [
    "grads, cost = propagate_tf(w_tf, b, X_tf, Y_tf)\n",
    "grads, cost"
   ]
  },
  {
   "cell_type": "code",
   "execution_count": null,
   "id": "964205c3",
   "metadata": {},
   "outputs": [],
   "source": []
  }
 ],
 "metadata": {
  "kernelspec": {
   "display_name": "Python 3 (ipykernel)",
   "language": "python",
   "name": "python3"
  },
  "language_info": {
   "codemirror_mode": {
    "name": "ipython",
    "version": 3
   },
   "file_extension": ".py",
   "mimetype": "text/x-python",
   "name": "python",
   "nbconvert_exporter": "python",
   "pygments_lexer": "ipython3",
   "version": "3.8.10"
  }
 },
 "nbformat": 4,
 "nbformat_minor": 5
}
