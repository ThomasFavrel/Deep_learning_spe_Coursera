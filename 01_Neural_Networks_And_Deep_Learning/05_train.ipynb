{
 "cells": [
  {
   "cell_type": "code",
   "execution_count": 1,
   "id": "3fc3132a",
   "metadata": {},
   "outputs": [],
   "source": [
    "import numpy as np\n",
    "import torch\n",
    "import tensorflow as tf"
   ]
  },
  {
   "cell_type": "markdown",
   "id": "20c28fee",
   "metadata": {},
   "source": [
    "## 1. Sigmoid function"
   ]
  },
  {
   "cell_type": "code",
   "execution_count": 2,
   "id": "bc330e28",
   "metadata": {},
   "outputs": [],
   "source": [
    "def sigmoid_np(x):\n",
    "    \"\"\"\n",
    "    Compute sigmoid of x.\n",
    "\n",
    "    Arguments:\n",
    "    x -- A scalar\n",
    "\n",
    "    Return:\n",
    "    s -- sigmoid(x)\n",
    "    \"\"\"\n",
    "  \n",
    "    return 1 / (1 + np.exp(-x))"
   ]
  },
  {
   "cell_type": "code",
   "execution_count": 3,
   "id": "154418ff",
   "metadata": {},
   "outputs": [],
   "source": [
    "def sigmoid_torch(x):\n",
    "    return 1 / (1 + torch.exp(-x))\n",
    "\n",
    "@tf.function\n",
    "def sigmoid_tf(x):\n",
    "    return 1 / (1 + tf.math.exp(-x))"
   ]
  },
  {
   "cell_type": "markdown",
   "id": "22aef1a5",
   "metadata": {},
   "source": [
    "## 2. Sigmoid derivate"
   ]
  },
  {
   "cell_type": "code",
   "execution_count": 4,
   "id": "619e3456",
   "metadata": {},
   "outputs": [],
   "source": [
    "def sigmoid_derivative_np(x):\n",
    "    \"\"\"\n",
    "    Compute the gradient (also called the slope or derivative) of the sigmoid function with respect to its input x.\n",
    "    You can store the output of the sigmoid function into variables and then use it to calculate the gradient.\n",
    "    \n",
    "    Arguments:\n",
    "    x -- A scalar or numpy array\n",
    "\n",
    "    Return:\n",
    "    ds -- Your computed gradient.\n",
    "    \"\"\"\n",
    "    \n",
    "    return sigmoid_np(x) * (1 - sigmoid_np(x))"
   ]
  },
  {
   "cell_type": "code",
   "execution_count": 5,
   "id": "ec14b7ef",
   "metadata": {},
   "outputs": [],
   "source": [
    "def sigmoid_derivate_torch(x):\n",
    "    return sigmoid_torch(x) * (1 - sigmoid_torch(x))\n",
    "\n",
    "@tf.function\n",
    "def sigmoid_derivate_tf(x):\n",
    "    return sigmoid_tf(x) * (1 - sigmoid_tf(x))"
   ]
  },
  {
   "cell_type": "markdown",
   "id": "25cdadeb",
   "metadata": {},
   "source": [
    "## 3. image2vector"
   ]
  },
  {
   "cell_type": "code",
   "execution_count": 6,
   "id": "100424c8",
   "metadata": {},
   "outputs": [],
   "source": [
    "def image2vector(image):\n",
    "    \"\"\"\n",
    "    Argument:\n",
    "    image -- a numpy array of shape (length, height, depth)\n",
    "    \n",
    "    Returns:\n",
    "    v -- a vector of shape (length*height*depth, 1)\n",
    "    \"\"\"\n",
    "        \n",
    "    return image.reshape(-1, 1)"
   ]
  },
  {
   "cell_type": "markdown",
   "id": "8bbe5688",
   "metadata": {},
   "source": [
    "## 4. Normalised rows"
   ]
  },
  {
   "cell_type": "code",
   "execution_count": 7,
   "id": "dd523e74",
   "metadata": {},
   "outputs": [],
   "source": [
    "def normalize_rows_np(x):\n",
    "    \"\"\"\n",
    "    Implement a function that normalizes each row of the matrix x (to have unit length).\n",
    "    \n",
    "    Argument:\n",
    "    x -- A numpy matrix of shape (n, m)\n",
    "    \n",
    "    Returns:\n",
    "    x -- The normalized (by row) numpy matrix. You are allowed to modify x.\n",
    "    \"\"\"\n",
    "\n",
    "    return x / np.linalg.norm(x, keepdims=True, axis=1)"
   ]
  },
  {
   "cell_type": "markdown",
   "id": "89be4c11",
   "metadata": {},
   "source": [
    "## 5. Softmax"
   ]
  },
  {
   "cell_type": "code",
   "execution_count": 8,
   "id": "a8f4f4dd",
   "metadata": {},
   "outputs": [],
   "source": [
    "def softmax_np(x):\n",
    "    \"\"\"Calculates the softmax for each row of the input x.\n",
    "\n",
    "    Your code should work for a row vector and also for matrices of shape (m,n).\n",
    "\n",
    "    Argument:\n",
    "    x -- A numpy matrix of shape (m,n)\n",
    "\n",
    "    Returns:\n",
    "    s -- A numpy matrix equal to the softmax of x, of shape (m,n)\n",
    "    \"\"\"\n",
    "    \n",
    "    x_exp = np.exp(x)\n",
    "    s_sum = np.sum(x_exp, axis=1, keepdims=True)\n",
    "    s = x_exp / s_sum\n",
    "    \n",
    "    return s"
   ]
  },
  {
   "cell_type": "code",
   "execution_count": 9,
   "id": "1e1e1917",
   "metadata": {},
   "outputs": [],
   "source": [
    "def softmax_torch(x):\n",
    "    x_exp = torch.exp(x)\n",
    "    s_sum = torch.sum(x_exp, axis=1, keepdims=True)\n",
    "    s = x_exp / s_sum\n",
    "    return s\n",
    "\n",
    "# torch.nn.Softmax"
   ]
  },
  {
   "cell_type": "code",
   "execution_count": 10,
   "id": "84c8c3e8",
   "metadata": {},
   "outputs": [],
   "source": [
    "@tf.function\n",
    "def softmax_tf(x):\n",
    "    x_exp = tf.math.exp(x)\n",
    "    s_sum = tf.math.reduce_sum(x_exp, axis=1, keepdims=True)\n",
    "    s = x_exp / s_sum\n",
    "    return s\n",
    "\n",
    "# tf.nn.softmax()"
   ]
  },
  {
   "cell_type": "markdown",
   "id": "77ae4a1e",
   "metadata": {},
   "source": [
    "## 6. L1 Loss"
   ]
  },
  {
   "cell_type": "markdown",
   "id": "cf868a03",
   "metadata": {},
   "source": [
    "$$\\begin{align*} & L_1(\\hat{y}, y) = \\sum_{i=0}^{m-1}|y^{(i)} - \\hat{y}^{(i)}| \\end{align*}$$"
   ]
  },
  {
   "cell_type": "code",
   "execution_count": 11,
   "id": "4f6a678e",
   "metadata": {},
   "outputs": [],
   "source": [
    "def L1_np(yhat, y):\n",
    "    \"\"\"\n",
    "    Arguments:\n",
    "    yhat -- vector of size m (predicted labels)\n",
    "    y -- vector of size m (true labels)\n",
    "    \n",
    "    Returns:\n",
    "    loss -- the value of the L1 loss function defined above\n",
    "    \"\"\"\n",
    "\n",
    "    loss = np.sum(np.abs(y - yhat))\n",
    "\n",
    "    return loss"
   ]
  },
  {
   "cell_type": "code",
   "execution_count": 12,
   "id": "91fc56fc",
   "metadata": {},
   "outputs": [],
   "source": [
    "def L1_torch(yhat, y):\n",
    "    return torch.sum(torch.abs(y - yhat))"
   ]
  },
  {
   "cell_type": "code",
   "execution_count": 46,
   "id": "f3f9a56d",
   "metadata": {},
   "outputs": [],
   "source": [
    "def L1_tf(yhat, y):\n",
    "    return tf.math.reduce_sum(tf.math.abs(y - yhat))"
   ]
  },
  {
   "cell_type": "markdown",
   "id": "3777a936",
   "metadata": {},
   "source": [
    "## 7. L2 Loss"
   ]
  },
  {
   "cell_type": "markdown",
   "id": "b82d67fa",
   "metadata": {},
   "source": [
    "$$\\begin{align*} & L_2(\\hat{y},y) = \\sum_{i=0}^{m-1}(y^{(i)} - \\hat{y}^{(i)})^2 \\end{align*}$$"
   ]
  },
  {
   "cell_type": "code",
   "execution_count": 14,
   "id": "59935088",
   "metadata": {},
   "outputs": [],
   "source": [
    "def L2_np(yhat, y):\n",
    "    \"\"\"\n",
    "    Arguments:\n",
    "    yhat -- vector of size m (predicted labels)\n",
    "    y -- vector of size m (true labels)\n",
    "    \n",
    "    Returns:\n",
    "    loss -- the value of the L2 loss function defined above\n",
    "    \"\"\"\n",
    "    \n",
    "    loss = np.sum(np.square(y - yhat))\n",
    "    \n",
    "    return loss"
   ]
  },
  {
   "cell_type": "code",
   "execution_count": 15,
   "id": "4a930490",
   "metadata": {},
   "outputs": [],
   "source": [
    "def L2_torch(yhat, y):\n",
    "    return torch.sum(torch.square(y - yhat))"
   ]
  },
  {
   "cell_type": "code",
   "execution_count": 50,
   "id": "2ca80eb6",
   "metadata": {},
   "outputs": [],
   "source": [
    "def L2_tf(yhat, y):\n",
    "    return tf.math.reduce_sum(tf.math.square(y - yhat))"
   ]
  },
  {
   "cell_type": "markdown",
   "id": "0ec9bd6a",
   "metadata": {},
   "source": [
    "## 8. Test"
   ]
  },
  {
   "cell_type": "code",
   "execution_count": 19,
   "id": "a3bc0bc5",
   "metadata": {},
   "outputs": [],
   "source": [
    "x = np.random.rand(3, 3)\n",
    "b = np.random.rand(3, 3)\n",
    "x_torch = torch.Tensor(x)\n",
    "b_torch = torch.Tensor(b)\n",
    "x_tf = tf.convert_to_tensor(x)\n",
    "b_tf = tf.convert_to_tensor(b)"
   ]
  },
  {
   "cell_type": "markdown",
   "id": "69e77f68",
   "metadata": {},
   "source": [
    "### 8.1 Sigmoid"
   ]
  },
  {
   "cell_type": "code",
   "execution_count": 20,
   "id": "f1232d04",
   "metadata": {},
   "outputs": [
    {
     "data": {
      "text/plain": [
       "array([[0.72552503, 0.51730211, 0.51829266],\n",
       "       [0.71412494, 0.50776203, 0.52976755],\n",
       "       [0.6399525 , 0.73006214, 0.61462965]])"
      ]
     },
     "execution_count": 20,
     "metadata": {},
     "output_type": "execute_result"
    }
   ],
   "source": [
    "sigmoid_np(x)"
   ]
  },
  {
   "cell_type": "code",
   "execution_count": 21,
   "id": "d3df6429",
   "metadata": {},
   "outputs": [
    {
     "data": {
      "text/plain": [
       "tensor([[0.7255, 0.5173, 0.5183],\n",
       "        [0.7141, 0.5078, 0.5298],\n",
       "        [0.6400, 0.7301, 0.6146]])"
      ]
     },
     "execution_count": 21,
     "metadata": {},
     "output_type": "execute_result"
    }
   ],
   "source": [
    "sigmoid_torch(x_torch)"
   ]
  },
  {
   "cell_type": "code",
   "execution_count": 22,
   "id": "43f0b3fb",
   "metadata": {},
   "outputs": [
    {
     "data": {
      "text/plain": [
       "<tf.Tensor: shape=(3, 3), dtype=float64, numpy=\n",
       "array([[0.72552503, 0.51730211, 0.51829266],\n",
       "       [0.71412494, 0.50776203, 0.52976755],\n",
       "       [0.6399525 , 0.73006214, 0.61462965]])>"
      ]
     },
     "execution_count": 22,
     "metadata": {},
     "output_type": "execute_result"
    }
   ],
   "source": [
    "sigmoid_tf(x_tf)"
   ]
  },
  {
   "cell_type": "markdown",
   "id": "ce05773e",
   "metadata": {},
   "source": [
    "## 8.2 Sigmoid derivate"
   ]
  },
  {
   "cell_type": "code",
   "execution_count": 23,
   "id": "e9375752",
   "metadata": {},
   "outputs": [
    {
     "data": {
      "text/plain": [
       "array([[0.19913846, 0.24970064, 0.24966538],\n",
       "       [0.20415051, 0.24993975, 0.24911389],\n",
       "       [0.2304133 , 0.19707141, 0.23686004]])"
      ]
     },
     "execution_count": 23,
     "metadata": {},
     "output_type": "execute_result"
    }
   ],
   "source": [
    "sigmoid_derivative_np(x)"
   ]
  },
  {
   "cell_type": "code",
   "execution_count": 24,
   "id": "b1244145",
   "metadata": {},
   "outputs": [
    {
     "data": {
      "text/plain": [
       "tensor([[0.1991, 0.2497, 0.2497],\n",
       "        [0.2042, 0.2499, 0.2491],\n",
       "        [0.2304, 0.1971, 0.2369]])"
      ]
     },
     "execution_count": 24,
     "metadata": {},
     "output_type": "execute_result"
    }
   ],
   "source": [
    "sigmoid_derivate_torch(x_torch)"
   ]
  },
  {
   "cell_type": "code",
   "execution_count": 25,
   "id": "6e88d678",
   "metadata": {},
   "outputs": [
    {
     "data": {
      "text/plain": [
       "<tf.Tensor: shape=(3, 3), dtype=float64, numpy=\n",
       "array([[0.19913846, 0.24970064, 0.24966538],\n",
       "       [0.20415051, 0.24993975, 0.24911389],\n",
       "       [0.2304133 , 0.19707141, 0.23686004]])>"
      ]
     },
     "execution_count": 25,
     "metadata": {},
     "output_type": "execute_result"
    }
   ],
   "source": [
    "sigmoid_derivate_tf(x_tf)"
   ]
  },
  {
   "cell_type": "markdown",
   "id": "edbb6f08",
   "metadata": {},
   "source": [
    "### 8.3 Softmax"
   ]
  },
  {
   "cell_type": "code",
   "execution_count": 26,
   "id": "03df5579",
   "metadata": {},
   "outputs": [
    {
     "data": {
      "text/plain": [
       "array([[0.55173089, 0.22368996, 0.22457915],\n",
       "       [0.53649841, 0.22154177, 0.24195982],\n",
       "       [0.29248776, 0.44505717, 0.26245507]])"
      ]
     },
     "execution_count": 26,
     "metadata": {},
     "output_type": "execute_result"
    }
   ],
   "source": [
    "softmax_np(x)"
   ]
  },
  {
   "cell_type": "code",
   "execution_count": 27,
   "id": "1972ef36",
   "metadata": {},
   "outputs": [
    {
     "data": {
      "text/plain": [
       "tensor([[0.5517, 0.2237, 0.2246],\n",
       "        [0.5365, 0.2215, 0.2420],\n",
       "        [0.2925, 0.4451, 0.2625]])"
      ]
     },
     "execution_count": 27,
     "metadata": {},
     "output_type": "execute_result"
    }
   ],
   "source": [
    "softmax_torch(x_torch)"
   ]
  },
  {
   "cell_type": "code",
   "execution_count": 35,
   "id": "7954a10a",
   "metadata": {},
   "outputs": [
    {
     "data": {
      "text/plain": [
       "tensor([[0.5517, 0.2237, 0.2246],\n",
       "        [0.5365, 0.2215, 0.2420],\n",
       "        [0.2925, 0.4451, 0.2625]])"
      ]
     },
     "execution_count": 35,
     "metadata": {},
     "output_type": "execute_result"
    }
   ],
   "source": [
    "s = torch.nn.Softmax(dim=1)\n",
    "s(x_torch)"
   ]
  },
  {
   "cell_type": "code",
   "execution_count": 28,
   "id": "77c4562d",
   "metadata": {},
   "outputs": [
    {
     "data": {
      "text/plain": [
       "<tf.Tensor: shape=(3, 3), dtype=float64, numpy=\n",
       "array([[0.55173089, 0.22368996, 0.22457915],\n",
       "       [0.53649841, 0.22154177, 0.24195982],\n",
       "       [0.29248776, 0.44505717, 0.26245507]])>"
      ]
     },
     "execution_count": 28,
     "metadata": {},
     "output_type": "execute_result"
    }
   ],
   "source": [
    "softmax_tf(x_tf)"
   ]
  },
  {
   "cell_type": "code",
   "execution_count": 37,
   "id": "d8dab350",
   "metadata": {},
   "outputs": [
    {
     "data": {
      "text/plain": [
       "<tf.Tensor: shape=(3, 3), dtype=float64, numpy=\n",
       "array([[0.55173089, 0.22368996, 0.22457915],\n",
       "       [0.53649841, 0.22154177, 0.24195982],\n",
       "       [0.29248776, 0.44505717, 0.26245507]])>"
      ]
     },
     "execution_count": 37,
     "metadata": {},
     "output_type": "execute_result"
    }
   ],
   "source": [
    "tf.nn.softmax(x_tf)"
   ]
  },
  {
   "cell_type": "markdown",
   "id": "08f22139",
   "metadata": {},
   "source": [
    "### 8.4 L1 Loss"
   ]
  },
  {
   "cell_type": "code",
   "execution_count": 39,
   "id": "e310023e",
   "metadata": {},
   "outputs": [
    {
     "data": {
      "text/plain": [
       "3.760220120014178"
      ]
     },
     "execution_count": 39,
     "metadata": {},
     "output_type": "execute_result"
    }
   ],
   "source": [
    "L1_np(x, b)"
   ]
  },
  {
   "cell_type": "code",
   "execution_count": 40,
   "id": "62a0a5f3",
   "metadata": {},
   "outputs": [
    {
     "data": {
      "text/plain": [
       "tensor(3.7602)"
      ]
     },
     "execution_count": 40,
     "metadata": {},
     "output_type": "execute_result"
    }
   ],
   "source": [
    "L1_torch(x_torch, b_torch)"
   ]
  },
  {
   "cell_type": "code",
   "execution_count": 47,
   "id": "9e597a4f",
   "metadata": {},
   "outputs": [
    {
     "data": {
      "text/plain": [
       "<tf.Tensor: shape=(), dtype=float64, numpy=3.760220120014178>"
      ]
     },
     "execution_count": 47,
     "metadata": {},
     "output_type": "execute_result"
    }
   ],
   "source": [
    "L1_tf(x_tf, b_tf)"
   ]
  },
  {
   "cell_type": "markdown",
   "id": "4ed37193",
   "metadata": {},
   "source": [
    "### 8.5 L2 Loss"
   ]
  },
  {
   "cell_type": "code",
   "execution_count": 48,
   "id": "43d6a4ec",
   "metadata": {},
   "outputs": [
    {
     "data": {
      "text/plain": [
       "2.295049316056502"
      ]
     },
     "execution_count": 48,
     "metadata": {},
     "output_type": "execute_result"
    }
   ],
   "source": [
    "L2_np(x, b)"
   ]
  },
  {
   "cell_type": "code",
   "execution_count": 49,
   "id": "7f446e30",
   "metadata": {},
   "outputs": [
    {
     "data": {
      "text/plain": [
       "tensor(2.2950)"
      ]
     },
     "execution_count": 49,
     "metadata": {},
     "output_type": "execute_result"
    }
   ],
   "source": [
    "L2_torch(x_torch, b_torch)"
   ]
  },
  {
   "cell_type": "code",
   "execution_count": 51,
   "id": "6e25792c",
   "metadata": {},
   "outputs": [
    {
     "data": {
      "text/plain": [
       "<tf.Tensor: shape=(), dtype=float64, numpy=2.295049316056502>"
      ]
     },
     "execution_count": 51,
     "metadata": {},
     "output_type": "execute_result"
    }
   ],
   "source": [
    "L2_tf(x_tf, b_tf)"
   ]
  },
  {
   "cell_type": "code",
   "execution_count": null,
   "id": "a39384c5",
   "metadata": {},
   "outputs": [],
   "source": []
  }
 ],
 "metadata": {
  "kernelspec": {
   "display_name": "Python 3 (ipykernel)",
   "language": "python",
   "name": "python3"
  },
  "language_info": {
   "codemirror_mode": {
    "name": "ipython",
    "version": 3
   },
   "file_extension": ".py",
   "mimetype": "text/x-python",
   "name": "python",
   "nbconvert_exporter": "python",
   "pygments_lexer": "ipython3",
   "version": "3.8.10"
  }
 },
 "nbformat": 4,
 "nbformat_minor": 5
}
